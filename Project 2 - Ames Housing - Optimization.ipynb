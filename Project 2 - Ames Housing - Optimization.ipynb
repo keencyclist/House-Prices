{
 "cells": [
  {
   "cell_type": "markdown",
   "metadata": {},
   "source": [
    "# Ames Housing Sales Price Model-Optimization\n",
    "\n",
    "### Paul Schimek\n",
    "\n",
    "March 25, 2019"
   ]
  },
  {
   "cell_type": "code",
   "execution_count": 3,
   "metadata": {},
   "outputs": [],
   "source": [
    "import numpy as np\n",
    "import pandas as pd\n",
    "import patsy\n",
    "import pickle\n",
    "\n",
    "from sklearn.linear_model import Ridge, Lasso, ElasticNet, LinearRegression, RidgeCV, LassoCV, ElasticNetCV\n",
    "from sklearn.model_selection import train_test_split, KFold, cross_val_score\n",
    "from sklearn.preprocessing import PolynomialFeatures, StandardScaler;\n",
    "\n",
    "import matplotlib\n",
    "import matplotlib.pyplot as plt\n",
    "import seaborn as sns\n",
    "plt.style.use('fivethirtyeight')\n",
    "\n",
    "%config InlineBackend.figure_format = 'retina'\n",
    "%matplotlib inline"
   ]
  },
  {
   "cell_type": "code",
   "execution_count": 2,
   "metadata": {},
   "outputs": [],
   "source": [
    "df = pd.read_csv('./datasets/train.csv')"
   ]
  },
  {
   "cell_type": "code",
   "execution_count": 7,
   "metadata": {},
   "outputs": [],
   "source": [
    "# variable transformations\n",
    "def transform(df):\n",
    "    df['culdesac'] = df['Lot Config'].apply(lambda x: 1 if x == 'CulDSac' else 0)\n",
    "    df['fancysuburb'] = df['Neighborhood'].apply(lambda x: 1 if x in ['GrnHill','NoRidge','NridgHt','StoneBr'] else 0)\n",
    "    df['suburb'] = df['Neighborhood'].apply(lambda x: 1 if x in ['Blmngtn','ClearCr','CollgCr','Crawfor','Gilbert',\n",
    "                                                             'Greens','NWAmes','SawyerW','Somerst','Timber',\n",
    "                                                             'Veenker','Mitchel'] else 0)\n",
    "    df['near_road'] = df['Condition 1'].apply(lambda x: 1 if x in ['Artery','Feedr'] else 0)\n",
    "    df['bad_qual'] = df['Overall Qual'].apply(lambda x: 1 if x < 4 else 0)\n",
    "    df['exc_qual'] = df['Overall Qual'].apply(lambda x: 1 if x > 8 else 0)\n",
    "    df['good_qual'] = df['Overall Qual'].apply(lambda x: 1 if  x == 7 else 0)\n",
    "    df['very_good_qual'] = df['Overall Qual'].apply(lambda x: 1 if x == 8 else 0)\n",
    "    df['below_avg_qual'] = df['Overall Qual'].apply(lambda x: 1 if x == 4 else 0) # 5 = average - reference case\n",
    "    df['above_avg_qual'] = df['Overall Qual'].apply(lambda x: 1 if x == 6 else 0)\n",
    "    df['lot_ar_sq'] = df['Lot Area']**2\n",
    "    df['lot_ar_cu'] = df['Lot Area']**3\n",
    "    df['live_ar_sq'] = df['Gr Liv Area']**2\n",
    "    df['live_ar_cu'] = df['Gr Liv Area']**3\n",
    "    df['year_built_sq'] = df['Year Built']**2\n",
    "    df['frontageLT35'] = df['Lot Frontage'].apply(lambda x: 1 if x <35 else 0)\n",
    "    df['frontageLT50'] = df['Lot Frontage'].apply(lambda x: 1 if 35 <= x < 50 else 0)\n",
    "    df['ac'] = df['Central Air'].apply(lambda x: 1 if x =='Y' else 0)\n",
    "    df['zoning'] = df['MS Zoning'].apply(lambda x: 1 if x in ['FV','RL'] else 0)\n",
    "    df['concrete'] = df['Foundation'].apply(lambda x: 1 if x == 'PConc' else 0)\n",
    "    df['exc_basement'] = df['Bsmt Qual'].apply(lambda x: 1 if x == 'Ex' else 0)\n",
    "    df['new'] = df['Year Built'].apply(lambda x: 1 if x > 2005 else 0)\n",
    "    df['remodel'] = df['Year Remod/Add'].apply(lambda x: 1 if x > 2005 else 0)\n",
    "    df['new_const'] = df['Sale Type'].apply(lambda x: 1 if x == 'New' else 0)\n",
    "    df['exc_kitchen'] = df['Kitchen Qual'].apply(lambda x: 1 if x == 'Ex' else 0)\n",
    "    df['good_kitchen'] = df['Kitchen Qual'].apply(lambda x: 1 if x == 'Gd' else 0)\n",
    "    df['num_cars'] = df['Garage Cars'].apply(lambda x: 2 if x == 5 else x) # the single case with 5 seems to be an error\n",
    "    df['damage'] = df['Functional'].apply(lambda x: 0 if x == 'Typ' else 1)\n",
    "    df['num_cars'] = df['num_cars'].replace(np.NaN, 0)\n",
    "    df['0_garage'] = df['num_cars'].apply(lambda x: 1 if x == 0 else 0)\n",
    "    df['1_garage'] = df['num_cars'].apply(lambda x: 1 if x == 1 else 0)\n",
    "    df['3_garage'] = df['num_cars'].apply(lambda x: 1 if x == 3 else 0)\n",
    "    df['4_garage'] = df['num_cars'].apply(lambda x: 1 if x == 4 else 0)    \n",
    "    df['bad_condition'] = df['Overall Cond'].apply(lambda x: 1 if x <5 else 0)\n",
    "    df['good_basement'] = df['Bsmt Qual'].apply(lambda x: 1 if x == 'Gd' else 0)\n",
    "    df['old_1story'] = df['MS SubClass'].apply(lambda x: 1 if x ==  30 else 0)\n",
    "    df['new_2story'] = df['MS SubClass'].apply(lambda x: 1 if x ==  60 else 0)\n",
    "    df['hill'] = df['Land Contour'].apply(lambda x: 1 if x == 'HLS' else 0)\n",
    "    df['corner'] = df['Lot Config'].apply(lambda x: 1 if x == 'Corner' else 0)\n",
    "    df['near_artery'] = df['Condition 1'].apply(lambda x: 1 if x == 'Artery' else 0)\n",
    "    df['near_feeder'] = df['Condition 1'].apply(lambda x: 1 if x == 'Feedr' else 0)\n",
    "    df['near_park'] = df['Condition 1'].apply(lambda x: 1 if x in ['PosA','PosN'] else 0)\n",
    "    df['hip_roof'] = df['Roof Style'].apply(lambda x: 1 if x == 'Hip' else 0)\n",
    "    df['l_lot_area'] = np.log(df['Lot Area'])\n",
    "    df['attached_garage'] =  df['Garage Type'].apply(lambda x: 1 if x in ['Attchd','BuiltIn'] else 0)\n",
    "    df['full_bath_0'] = df['Full Bath'].apply(lambda x: 1 if x == 0 else 0) \n",
    "    df['full_bath_2'] = df['Full Bath'].apply(lambda x: 1 if x == 2 else 0)\n",
    "    df['full_bath_3'] = df['Full Bath'].apply(lambda x: 1 if x == 3 else 0)\n",
    "    df['full_bath_4'] = df['Full Bath'].apply(lambda x: 1 if x > 3 else 0)\n",
    "    df['half_bath_1'] = df['Half Bath'].apply(lambda x: 1 if x == 1 else 0) \n",
    "    df['half_bath_2'] = df['Half Bath'].apply(lambda x: 1 if x > 1 else 0)\n",
    "    df['breakers'] = df['Electrical'].apply(lambda x: 1 if x == 'SBrkr' else 0)\n",
    "    df['unf_garage']=df['Garage Finish'].apply(lambda x: 1 if x == 'Unf' else 0)\n",
    "    df['paved_driveway']=df['Paved Drive'].apply(lambda x: 1 if x == 'Y' else 0)\n",
    "    df['two_fam']=df['Bldg Type'].apply(lambda x: 1 if x in ['2fmCon','Duplex','Twnhs'] else 0)\n",
    "    df['two_story']=df['House Style'].apply(lambda x: 1 if x in ['2Story','2.5Fin','2.5Unf'] else 0)\n",
    "    df['l_living_area'] = np.log(df['Gr Liv Area'])\n",
    "    df['2010'] = df['Yr Sold'].apply(lambda x: 1 if x == 2010 else 0) # reference is 2006\n",
    "    df['2009'] = df['Yr Sold'].apply(lambda x: 1 if x == 2009 else 0)\n",
    "    df['2008'] = df['Yr Sold'].apply(lambda x: 1 if x == 2008 else 0)\n",
    "    df['2007'] = df['Yr Sold'].apply(lambda x: 1 if x == 2007 else 0)\n",
    "    df['cement_board'] = df['Exterior 1st'].apply(lambda x: 1 if x == 'CemntBd' else 0)\n",
    "    df['vinyl_siding'] = df['Exterior 1st'].apply(lambda x: 1 if x == 'VinylSd' else 0)\n",
    "    df['basement_area'] = df['Total Bsmt SF'].replace(np.NaN, 0) # recode single NaN as 0\n",
    "    "
   ]
  },
  {
   "cell_type": "code",
   "execution_count": 8,
   "metadata": {},
   "outputs": [],
   "source": [
    "transform(df)"
   ]
  },
  {
   "cell_type": "code",
   "execution_count": 11,
   "metadata": {},
   "outputs": [],
   "source": [
    " # read list of features from basemodel notebook\n",
    "with open('features', 'rb') as f:\n",
    "    features = pickle.load(f)"
   ]
  },
  {
   "cell_type": "code",
   "execution_count": 12,
   "metadata": {},
   "outputs": [],
   "source": [
    "# set X and Y for full training sample\n",
    "X = df[features]\n",
    "y = df['SalePrice']\n",
    "l_y = np.log(y)"
   ]
  },
  {
   "cell_type": "code",
   "execution_count": 13,
   "metadata": {},
   "outputs": [],
   "source": [
    "# create instances of different models\n",
    "lr = LinearRegression()\n",
    "lasso = LassoCV(cv=5,max_iter=5000)\n",
    "ridge = RidgeCV(cv=5)\n",
    "elastic = ElasticNetCV(cv=5,max_iter=5000)"
   ]
  },
  {
   "cell_type": "code",
   "execution_count": 14,
   "metadata": {},
   "outputs": [],
   "source": [
    "# scale Xs\n",
    "ss = StandardScaler()\n",
    "ss.fit(X) # learning mean and s.d. for every column\n",
    "X_sc = ss.transform(X)"
   ]
  },
  {
   "cell_type": "code",
   "execution_count": 15,
   "metadata": {},
   "outputs": [
    {
     "data": {
      "text/plain": [
       "0.8781069765747412"
      ]
     },
     "execution_count": 15,
     "metadata": {},
     "output_type": "execute_result"
    }
   ],
   "source": [
    "cross_val_score(lr, X_sc, l_y, cv=5).mean()"
   ]
  },
  {
   "cell_type": "code",
   "execution_count": 16,
   "metadata": {},
   "outputs": [
    {
     "data": {
      "text/plain": [
       "0.8780093264970461"
      ]
     },
     "execution_count": 16,
     "metadata": {},
     "output_type": "execute_result"
    }
   ],
   "source": [
    "cross_val_score(lasso, X_sc, l_y, cv=5).mean()"
   ]
  },
  {
   "cell_type": "code",
   "execution_count": 17,
   "metadata": {},
   "outputs": [
    {
     "data": {
      "text/plain": [
       "0.8780974010944174"
      ]
     },
     "execution_count": 17,
     "metadata": {},
     "output_type": "execute_result"
    }
   ],
   "source": [
    "cross_val_score(ridge, X_sc, l_y, cv=5).mean()"
   ]
  },
  {
   "cell_type": "code",
   "execution_count": 18,
   "metadata": {},
   "outputs": [
    {
     "data": {
      "text/plain": [
       "0.0002828238779940122"
      ]
     },
     "execution_count": 18,
     "metadata": {},
     "output_type": "execute_result"
    }
   ],
   "source": [
    "lasso.fit(X_sc,l_y)\n",
    "lasso.alpha_"
   ]
  },
  {
   "cell_type": "code",
   "execution_count": 19,
   "metadata": {},
   "outputs": [
    {
     "data": {
      "text/plain": [
       "0.8907277515231047"
      ]
     },
     "execution_count": 19,
     "metadata": {},
     "output_type": "execute_result"
    }
   ],
   "source": [
    "lasso.score(X_sc,l_y)"
   ]
  },
  {
   "cell_type": "code",
   "execution_count": 20,
   "metadata": {},
   "outputs": [
    {
     "data": {
      "text/plain": [
       "0.1"
      ]
     },
     "execution_count": 20,
     "metadata": {},
     "output_type": "execute_result"
    }
   ],
   "source": [
    "ridge.fit(X_sc,l_y)\n",
    "ridge.alpha_"
   ]
  },
  {
   "cell_type": "code",
   "execution_count": 21,
   "metadata": {},
   "outputs": [
    {
     "data": {
      "text/plain": [
       "0.8907813965041373"
      ]
     },
     "execution_count": 21,
     "metadata": {},
     "output_type": "execute_result"
    }
   ],
   "source": [
    "ridge.score(X_sc,l_y)"
   ]
  },
  {
   "cell_type": "markdown",
   "metadata": {},
   "source": [
    "### Polynomial and interaction transformations"
   ]
  },
  {
   "cell_type": "code",
   "execution_count": 22,
   "metadata": {},
   "outputs": [],
   "source": [
    "poly = PolynomialFeatures(degree=2,include_bias=False) \n",
    "X_poly = poly.fit_transform(X_sc)"
   ]
  },
  {
   "cell_type": "code",
   "execution_count": 23,
   "metadata": {
    "scrolled": true
   },
   "outputs": [
    {
     "data": {
      "text/plain": [
       "0.8773800867756861"
      ]
     },
     "execution_count": 23,
     "metadata": {},
     "output_type": "execute_result"
    }
   ],
   "source": [
    "cross_val_score(lasso, X_poly, l_y, cv=5).mean()"
   ]
  },
  {
   "cell_type": "code",
   "execution_count": 24,
   "metadata": {},
   "outputs": [
    {
     "data": {
      "text/plain": [
       "0.007994106175169066"
      ]
     },
     "execution_count": 24,
     "metadata": {},
     "output_type": "execute_result"
    }
   ],
   "source": [
    "lasso.fit(X_poly,l_y)\n",
    "lasso.alpha_"
   ]
  },
  {
   "cell_type": "code",
   "execution_count": 56,
   "metadata": {},
   "outputs": [
    {
     "data": {
      "text/plain": [
       "0.9014507316755946"
      ]
     },
     "execution_count": 56,
     "metadata": {},
     "output_type": "execute_result"
    }
   ],
   "source": [
    "lasso.score(X_poly,l_y)"
   ]
  },
  {
   "cell_type": "code",
   "execution_count": 25,
   "metadata": {},
   "outputs": [
    {
     "name": "stderr",
     "output_type": "stream",
     "text": [
      "C:\\Users\\pauls\\Anaconda3\\envs\\dsi\\lib\\site-packages\\sklearn\\preprocessing\\data.py:1263: FutureWarning: arrays to stack must be passed as a \"sequence\" type such as list or tuple. Support for non-sequence iterables such as generators is deprecated as of NumPy 1.16 and will raise an error in the future.\n",
      "  for c in combinations)\n"
     ]
    },
    {
     "name": "stdout",
     "output_type": "stream",
     "text": [
      "0 Gr Liv Area\n",
      "2 basement_area\n",
      "3 Lot Area\n",
      "15 suburb\n",
      "19 Year Built\n",
      "25 Fireplaces\n",
      "27 unf_garage\n",
      "28 num_cars\n",
      "30 concrete\n",
      "40 good_kitchen\n",
      "90 live_ar_sq^2\n",
      "91 live_ar_sq basement_area\n",
      "94 live_ar_sq TotRms AbvGrd\n",
      "219 frontageLT35^2\n",
      "238 frontageLT35 zoning\n",
      "271 TotRms AbvGrd near_artery\n",
      "276 TotRms AbvGrd two_fam\n",
      "284 TotRms AbvGrd paved_driveway\n",
      "291 TotRms AbvGrd bad_qual\n",
      "320 Bedroom AbvGr breakers\n",
      "368 full_bath_0 bad_qual\n",
      "414 full_bath_3^2\n",
      "420 full_bath_3 suburb\n",
      "505 half_bath_2 exc_qual\n",
      "516 half_bath_2 bad_condition\n",
      "519 hill^2\n",
      "552 culdesac^2\n",
      "1052 remodel^2\n",
      "1059 exc_kitchen^2\n",
      "1070 damage^2\n",
      "1074 bad_condition^2\n",
      "1076 bad_condition 2010\n"
     ]
    }
   ],
   "source": [
    "# identify which coefficients are non-zero after using LASSO on poly model\n",
    "coeffs = [coef for coef in lasso.coef_]\n",
    "\n",
    "model_coef = {}\n",
    "for index, coef in enumerate(coeffs):\n",
    "    if np.abs(coef) >.001:\n",
    "        model_coef.update({index:coef})\n",
    "for key in model_coef.keys():\n",
    "    for index, item in enumerate(poly.get_feature_names(X.columns)):\n",
    "        if index == key:\n",
    "            model_coef[item] = model_coef.pop(key)\n",
    "            print (index,item)"
   ]
  },
  {
   "cell_type": "code",
   "execution_count": 26,
   "metadata": {},
   "outputs": [
    {
     "data": {
      "text/plain": [
       "RidgeCV(alphas=(0.1, 1.0, 10.0), cv=5, fit_intercept=True, gcv_mode=None,\n",
       "    normalize=False, scoring=None, store_cv_values=False)"
      ]
     },
     "execution_count": 26,
     "metadata": {},
     "output_type": "execute_result"
    }
   ],
   "source": [
    "ridge.fit(X_poly,y)"
   ]
  },
  {
   "cell_type": "code",
   "execution_count": 27,
   "metadata": {},
   "outputs": [
    {
     "data": {
      "text/plain": [
       "0.9681351504716545"
      ]
     },
     "execution_count": 27,
     "metadata": {},
     "output_type": "execute_result"
    }
   ],
   "source": [
    "ridge.score(X_poly,y)"
   ]
  },
  {
   "cell_type": "code",
   "execution_count": 29,
   "metadata": {},
   "outputs": [
    {
     "data": {
      "text/plain": [
       "10.0"
      ]
     },
     "execution_count": 29,
     "metadata": {},
     "output_type": "execute_result"
    }
   ],
   "source": [
    "ridge.alpha_"
   ]
  },
  {
   "cell_type": "code",
   "execution_count": 32,
   "metadata": {},
   "outputs": [],
   "source": [
    "# use CV to test models\n",
    "X_train, X_test, y_train, y_test = train_test_split(X, y, random_state=42)\n",
    "\n",
    "y_train = np.log(y_train)  # estimating log-linear models\n",
    "y_test = np.log(y_test)\n",
    "X_train_sc = ss.transform(X_train)\n",
    "X_test_sc = ss.transform(X_test)\n",
    "poly = PolynomialFeatures(degree=2,interaction_only=False,include_bias=False) \n",
    "X_train_poly = poly.fit_transform(X_train_sc)\n",
    "X_test_poly = poly.fit_transform(X_test_sc)"
   ]
  },
  {
   "cell_type": "code",
   "execution_count": 30,
   "metadata": {},
   "outputs": [
    {
     "data": {
      "text/plain": [
       "1080"
      ]
     },
     "execution_count": 30,
     "metadata": {},
     "output_type": "execute_result"
    }
   ],
   "source": [
    "poly.n_output_features_"
   ]
  },
  {
   "cell_type": "code",
   "execution_count": 33,
   "metadata": {},
   "outputs": [
    {
     "data": {
      "text/plain": [
       "0.9081166685486177"
      ]
     },
     "execution_count": 33,
     "metadata": {},
     "output_type": "execute_result"
    }
   ],
   "source": [
    "lasso.fit(X_train_poly,y_train)\n",
    "lasso.score(X_train_poly,y_train)"
   ]
  },
  {
   "cell_type": "code",
   "execution_count": 35,
   "metadata": {},
   "outputs": [
    {
     "data": {
      "text/plain": [
       "0.8798964828299061"
      ]
     },
     "execution_count": 35,
     "metadata": {},
     "output_type": "execute_result"
    }
   ],
   "source": [
    "lasso.score(X_test_poly,y_test)"
   ]
  },
  {
   "cell_type": "code",
   "execution_count": 36,
   "metadata": {},
   "outputs": [
    {
     "data": {
      "text/plain": [
       "0.008971436886568667"
      ]
     },
     "execution_count": 36,
     "metadata": {},
     "output_type": "execute_result"
    }
   ],
   "source": [
    "lasso.alpha_"
   ]
  },
  {
   "cell_type": "code",
   "execution_count": 34,
   "metadata": {},
   "outputs": [
    {
     "data": {
      "text/plain": [
       "0.9729343485596982"
      ]
     },
     "execution_count": 34,
     "metadata": {},
     "output_type": "execute_result"
    }
   ],
   "source": [
    "ridge.fit(X_train_poly,y_train)\n",
    "ridge.score(X_train_poly,y_train)"
   ]
  },
  {
   "cell_type": "code",
   "execution_count": 38,
   "metadata": {},
   "outputs": [
    {
     "data": {
      "text/plain": [
       "0.4836514580767832"
      ]
     },
     "execution_count": 38,
     "metadata": {},
     "output_type": "execute_result"
    }
   ],
   "source": [
    "ridge.score(X_test_poly,y_test)"
   ]
  },
  {
   "cell_type": "code",
   "execution_count": 37,
   "metadata": {},
   "outputs": [
    {
     "data": {
      "text/plain": [
       "0.9079418497850235"
      ]
     },
     "execution_count": 37,
     "metadata": {},
     "output_type": "execute_result"
    }
   ],
   "source": [
    "elastic.fit(X_train_poly,y_train)\n",
    "elastic.score(X_train_poly,y_train)"
   ]
  },
  {
   "cell_type": "code",
   "execution_count": 39,
   "metadata": {},
   "outputs": [
    {
     "data": {
      "text/plain": [
       "0.879736098280242"
      ]
     },
     "execution_count": 39,
     "metadata": {},
     "output_type": "execute_result"
    }
   ],
   "source": [
    "elastic.score(X_test_poly,y_test)"
   ]
  },
  {
   "cell_type": "code",
   "execution_count": 40,
   "metadata": {},
   "outputs": [
    {
     "data": {
      "text/plain": [
       "0.017942873773137337"
      ]
     },
     "execution_count": 40,
     "metadata": {},
     "output_type": "execute_result"
    }
   ],
   "source": [
    "elastic.alpha_"
   ]
  },
  {
   "cell_type": "markdown",
   "metadata": {},
   "source": [
    "#### The lasso model seems to work best. Apply it to the full training data, and use the resulting model to predict SalePrice in the test data."
   ]
  },
  {
   "cell_type": "code",
   "execution_count": 42,
   "metadata": {},
   "outputs": [],
   "source": [
    "# Read and transform test data, including scaling and polynomials\n",
    "test = pd.read_csv('./datasets/test.csv')\n",
    "transform(test)\n",
    "X_kaggle = test[features]\n",
    "# X_kaggle = sm.add_constant(X_kaggle)  # just to have the same size array as X\n",
    "X_kaggle_sc = ss.transform(X_kaggle) # using mean & s.d. from TRAIN set to scale test set\n",
    "X_kaggle_poly = poly.fit_transform(X_kaggle_sc)"
   ]
  },
  {
   "cell_type": "code",
   "execution_count": 44,
   "metadata": {},
   "outputs": [
    {
     "data": {
      "text/plain": [
       "0.007994106175169066"
      ]
     },
     "execution_count": 44,
     "metadata": {},
     "output_type": "execute_result"
    }
   ],
   "source": [
    "lasso.fit(X_poly,l_y)\n",
    "lasso.alpha_"
   ]
  },
  {
   "cell_type": "code",
   "execution_count": 45,
   "metadata": {},
   "outputs": [],
   "source": [
    "# generate predicted y (SalePrice)\n",
    "test['SalePrice'] = np.exp(lasso.predict(X_kaggle_poly))"
   ]
  },
  {
   "cell_type": "code",
   "execution_count": 46,
   "metadata": {},
   "outputs": [],
   "source": [
    "submit = test[['Id','SalePrice']]\n",
    "submit.to_csv('submit21.csv',index=False)"
   ]
  }
 ],
 "metadata": {
  "kernelspec": {
   "display_name": "Python 3",
   "language": "python",
   "name": "python3"
  },
  "language_info": {
   "codemirror_mode": {
    "name": "ipython",
    "version": 3
   },
   "file_extension": ".py",
   "mimetype": "text/x-python",
   "name": "python",
   "nbconvert_exporter": "python",
   "pygments_lexer": "ipython3",
   "version": "3.6.5"
  }
 },
 "nbformat": 4,
 "nbformat_minor": 2
}
